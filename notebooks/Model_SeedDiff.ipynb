{
 "cells": [
  {
   "cell_type": "code",
   "execution_count": 1,
   "id": "a7d06346-6dc3-40cc-a7dd-5c7db98a431a",
   "metadata": {},
   "outputs": [],
   "source": [
    "import os\n",
    "\n",
    "# Move up one level to set the working directory to the repo root\n",
    "os.chdir(os.path.abspath(os.path.join(os.getcwd(), \"..\")))\n",
    "\n",
    "# Suppress warning\n",
    "os.environ[\"MLFLOW_RECORD_ENV_VARS_IN_MODEL_LOGGING\"] = \"false\""
   ]
  },
  {
   "cell_type": "code",
   "execution_count": 26,
   "id": "75e0ade7-f82f-4b58-8624-c96159271e6c",
   "metadata": {},
   "outputs": [],
   "source": [
    "import pandas as pd\n",
    "import numpy as np\n",
    "import re\n",
    "import mlflow\n",
    "import mlflow.sklearn\n",
    "from sklearn.model_selection import train_test_split\n",
    "from sklearn.linear_model import LogisticRegression\n",
    "from sklearn.metrics import log_loss, accuracy_score, roc_auc_score, brier_score_loss\n",
    "\n",
    "from src.data_processing import extract_game_info, extract_seed_value"
   ]
  },
  {
   "cell_type": "code",
   "execution_count": 5,
   "id": "df8ffe08-c299-4dac-974e-c224da6d1301",
   "metadata": {},
   "outputs": [],
   "source": [
    "# Load men's and women's seed data\n",
    "m_seed = pd.read_csv(r\"data\\kaggle\\MNCAATourneySeeds.csv\")\n",
    "w_seed = pd.read_csv(r\"data\\kaggle\\WNCAATourneySeeds.csv\")\n",
    "\n",
    "# Extract numeric seed values\n",
    "m_seed['SeedValue'] = m_seed['Seed'].apply(extract_seed_value)\n",
    "w_seed['SeedValue'] = w_seed['Seed'].apply(extract_seed_value)"
   ]
  },
  {
   "cell_type": "code",
   "execution_count": 6,
   "id": "4b635a0a-1c8f-4cdb-917b-682b2f22e1ed",
   "metadata": {},
   "outputs": [
    {
     "data": {
      "text/html": [
       "<div>\n",
       "<style scoped>\n",
       "    .dataframe tbody tr th:only-of-type {\n",
       "        vertical-align: middle;\n",
       "    }\n",
       "\n",
       "    .dataframe tbody tr th {\n",
       "        vertical-align: top;\n",
       "    }\n",
       "\n",
       "    .dataframe thead th {\n",
       "        text-align: right;\n",
       "    }\n",
       "</style>\n",
       "<table border=\"1\" class=\"dataframe\">\n",
       "  <thead>\n",
       "    <tr style=\"text-align: right;\">\n",
       "      <th></th>\n",
       "      <th>Season</th>\n",
       "      <th>Seed</th>\n",
       "      <th>TeamID</th>\n",
       "      <th>SeedValue</th>\n",
       "    </tr>\n",
       "  </thead>\n",
       "  <tbody>\n",
       "    <tr>\n",
       "      <th>0</th>\n",
       "      <td>1985</td>\n",
       "      <td>W01</td>\n",
       "      <td>1207</td>\n",
       "      <td>1</td>\n",
       "    </tr>\n",
       "    <tr>\n",
       "      <th>1</th>\n",
       "      <td>1985</td>\n",
       "      <td>W02</td>\n",
       "      <td>1210</td>\n",
       "      <td>2</td>\n",
       "    </tr>\n",
       "    <tr>\n",
       "      <th>2</th>\n",
       "      <td>1985</td>\n",
       "      <td>W03</td>\n",
       "      <td>1228</td>\n",
       "      <td>3</td>\n",
       "    </tr>\n",
       "    <tr>\n",
       "      <th>3</th>\n",
       "      <td>1985</td>\n",
       "      <td>W04</td>\n",
       "      <td>1260</td>\n",
       "      <td>4</td>\n",
       "    </tr>\n",
       "    <tr>\n",
       "      <th>4</th>\n",
       "      <td>1985</td>\n",
       "      <td>W05</td>\n",
       "      <td>1374</td>\n",
       "      <td>5</td>\n",
       "    </tr>\n",
       "  </tbody>\n",
       "</table>\n",
       "</div>"
      ],
      "text/plain": [
       "   Season Seed  TeamID  SeedValue\n",
       "0    1985  W01    1207          1\n",
       "1    1985  W02    1210          2\n",
       "2    1985  W03    1228          3\n",
       "3    1985  W04    1260          4\n",
       "4    1985  W05    1374          5"
      ]
     },
     "execution_count": 6,
     "metadata": {},
     "output_type": "execute_result"
    }
   ],
   "source": [
    "m_seed.head()"
   ]
  },
  {
   "cell_type": "code",
   "execution_count": 3,
   "id": "4b568489-da0e-4cdb-b6d6-d7f9414bf8ac",
   "metadata": {},
   "outputs": [],
   "source": [
    "# Load submission data\n",
    "submission_df = pd.read_csv(r\"data\\kaggle\\SampleSubmissionStage1.csv\")\n",
    "submission_df[['Season', 'TeamID1', 'TeamID2']] = submission_df['ID'].apply(extract_game_info).apply(pd.Series)"
   ]
  },
  {
   "cell_type": "code",
   "execution_count": 32,
   "id": "19bff857-cd36-4f62-8f3f-7d7eb26809ab",
   "metadata": {},
   "outputs": [],
   "source": [
    "# Define function to determine gender based on TeamID1\n",
    "def determine_gender(team_id):\n",
    "    if str(team_id).startswith(\"1\"):  # Men's teams start with 1\n",
    "        return \"Men\"\n",
    "    elif str(team_id).startswith(\"3\"):  # Women's teams start with 3\n",
    "        return \"Women\"\n",
    "    else:\n",
    "        return None  # Handle unexpected cases\n",
    "\n",
    "# Assign Gender column\n",
    "submission_df['Gender'] = submission_df['TeamID1'].apply(determine_gender)\n",
    "\n",
    "# Split into men's and women's submission dataframes\n",
    "m_submission = submission_df[submission_df['Gender'] == 'Men'].copy()\n",
    "w_submission = submission_df[submission_df['Gender'] == 'Women'].copy()\n",
    "\n",
    "# Merge with seed_df to get Seed Values\n",
    "def merge_with_seed(sub_df, seed_df):\n",
    "    sub_df = sub_df.merge(seed_df, left_on=['Season', 'TeamID1'], right_on=['Season', 'TeamID'], how='inner')\n",
    "    sub_df = sub_df.rename(columns={'SeedValue': 'SeedA'}).drop(columns=['TeamID'])\n",
    "\n",
    "    sub_df = sub_df.merge(seed_df, left_on=['Season', 'TeamID2'], right_on=['Season', 'TeamID'], how='inner')\n",
    "    sub_df = sub_df.rename(columns={'SeedValue': 'SeedB'}).drop(columns=['TeamID'])\n",
    "\n",
    "    # Compute Seed Difference\n",
    "    sub_df['SeedDiff'] = sub_df['SeedA'] - sub_df['SeedB']\n",
    "    sub_df['SeedDiff_Squared'] = sub_df['SeedDiff'] ** 2\n",
    "    \n",
    "    return sub_df\n",
    "\n",
    "# Merge seed data for both men's and women's submissions\n",
    "m_submission = merge_with_seed(m_submission, m_seed)\n",
    "w_submission = merge_with_seed(w_submission, w_seed)\n"
   ]
  },
  {
   "cell_type": "code",
   "execution_count": 33,
   "id": "c250c953-c7a8-49ee-b5e1-e3f364e75b2b",
   "metadata": {},
   "outputs": [
    {
     "data": {
      "text/html": [
       "<div>\n",
       "<style scoped>\n",
       "    .dataframe tbody tr th:only-of-type {\n",
       "        vertical-align: middle;\n",
       "    }\n",
       "\n",
       "    .dataframe tbody tr th {\n",
       "        vertical-align: top;\n",
       "    }\n",
       "\n",
       "    .dataframe thead th {\n",
       "        text-align: right;\n",
       "    }\n",
       "</style>\n",
       "<table border=\"1\" class=\"dataframe\">\n",
       "  <thead>\n",
       "    <tr style=\"text-align: right;\">\n",
       "      <th></th>\n",
       "      <th>ID</th>\n",
       "      <th>Pred</th>\n",
       "      <th>Season</th>\n",
       "      <th>TeamID1</th>\n",
       "      <th>TeamID2</th>\n",
       "      <th>Gender</th>\n",
       "      <th>Seed_x</th>\n",
       "      <th>SeedA</th>\n",
       "      <th>Seed_y</th>\n",
       "      <th>SeedB</th>\n",
       "      <th>SeedDiff</th>\n",
       "      <th>SeedDiff_Squared</th>\n",
       "    </tr>\n",
       "  </thead>\n",
       "  <tbody>\n",
       "    <tr>\n",
       "      <th>0</th>\n",
       "      <td>2021_1101_1104</td>\n",
       "      <td>0.5</td>\n",
       "      <td>2021</td>\n",
       "      <td>1101</td>\n",
       "      <td>1104</td>\n",
       "      <td>Men</td>\n",
       "      <td>W14</td>\n",
       "      <td>14</td>\n",
       "      <td>W02</td>\n",
       "      <td>2</td>\n",
       "      <td>12</td>\n",
       "      <td>144</td>\n",
       "    </tr>\n",
       "    <tr>\n",
       "      <th>1</th>\n",
       "      <td>2021_1101_1111</td>\n",
       "      <td>0.5</td>\n",
       "      <td>2021</td>\n",
       "      <td>1101</td>\n",
       "      <td>1111</td>\n",
       "      <td>Men</td>\n",
       "      <td>W14</td>\n",
       "      <td>14</td>\n",
       "      <td>X16a</td>\n",
       "      <td>16</td>\n",
       "      <td>-2</td>\n",
       "      <td>4</td>\n",
       "    </tr>\n",
       "    <tr>\n",
       "      <th>2</th>\n",
       "      <td>2021_1101_1116</td>\n",
       "      <td>0.5</td>\n",
       "      <td>2021</td>\n",
       "      <td>1101</td>\n",
       "      <td>1116</td>\n",
       "      <td>Men</td>\n",
       "      <td>W14</td>\n",
       "      <td>14</td>\n",
       "      <td>Z03</td>\n",
       "      <td>3</td>\n",
       "      <td>11</td>\n",
       "      <td>121</td>\n",
       "    </tr>\n",
       "    <tr>\n",
       "      <th>3</th>\n",
       "      <td>2021_1101_1124</td>\n",
       "      <td>0.5</td>\n",
       "      <td>2021</td>\n",
       "      <td>1101</td>\n",
       "      <td>1124</td>\n",
       "      <td>Men</td>\n",
       "      <td>W14</td>\n",
       "      <td>14</td>\n",
       "      <td>Z01</td>\n",
       "      <td>1</td>\n",
       "      <td>13</td>\n",
       "      <td>169</td>\n",
       "    </tr>\n",
       "    <tr>\n",
       "      <th>4</th>\n",
       "      <td>2021_1101_1140</td>\n",
       "      <td>0.5</td>\n",
       "      <td>2021</td>\n",
       "      <td>1101</td>\n",
       "      <td>1140</td>\n",
       "      <td>Men</td>\n",
       "      <td>W14</td>\n",
       "      <td>14</td>\n",
       "      <td>W06</td>\n",
       "      <td>6</td>\n",
       "      <td>8</td>\n",
       "      <td>64</td>\n",
       "    </tr>\n",
       "  </tbody>\n",
       "</table>\n",
       "</div>"
      ],
      "text/plain": [
       "               ID  Pred  Season  TeamID1  TeamID2 Gender Seed_x  SeedA Seed_y  \\\n",
       "0  2021_1101_1104   0.5    2021     1101     1104    Men    W14     14    W02   \n",
       "1  2021_1101_1111   0.5    2021     1101     1111    Men    W14     14   X16a   \n",
       "2  2021_1101_1116   0.5    2021     1101     1116    Men    W14     14    Z03   \n",
       "3  2021_1101_1124   0.5    2021     1101     1124    Men    W14     14    Z01   \n",
       "4  2021_1101_1140   0.5    2021     1101     1140    Men    W14     14    W06   \n",
       "\n",
       "   SeedB  SeedDiff  SeedDiff_Squared  \n",
       "0      2        12               144  \n",
       "1     16        -2                 4  \n",
       "2      3        11               121  \n",
       "3      1        13               169  \n",
       "4      6         8                64  "
      ]
     },
     "execution_count": 33,
     "metadata": {},
     "output_type": "execute_result"
    }
   ],
   "source": [
    "m_submission.head()"
   ]
  },
  {
   "cell_type": "code",
   "execution_count": 9,
   "id": "08fc7f92-9807-4d1d-8170-23c1e3ab1bde",
   "metadata": {},
   "outputs": [],
   "source": [
    "# Load tournament results data\n",
    "m_results = pd.read_csv(r\"data\\kaggle\\MNCAATourneyCompactResults.csv\")\n",
    "w_results = pd.read_csv(r\"data\\kaggle\\WNCAATourneyCompactResults.csv\")"
   ]
  },
  {
   "cell_type": "code",
   "execution_count": 10,
   "id": "a96a6794-7f98-402d-badc-fd2082ef1a26",
   "metadata": {},
   "outputs": [
    {
     "data": {
      "text/html": [
       "<div>\n",
       "<style scoped>\n",
       "    .dataframe tbody tr th:only-of-type {\n",
       "        vertical-align: middle;\n",
       "    }\n",
       "\n",
       "    .dataframe tbody tr th {\n",
       "        vertical-align: top;\n",
       "    }\n",
       "\n",
       "    .dataframe thead th {\n",
       "        text-align: right;\n",
       "    }\n",
       "</style>\n",
       "<table border=\"1\" class=\"dataframe\">\n",
       "  <thead>\n",
       "    <tr style=\"text-align: right;\">\n",
       "      <th></th>\n",
       "      <th>Season</th>\n",
       "      <th>DayNum</th>\n",
       "      <th>WTeamID</th>\n",
       "      <th>WScore</th>\n",
       "      <th>LTeamID</th>\n",
       "      <th>LScore</th>\n",
       "      <th>WLoc</th>\n",
       "      <th>NumOT</th>\n",
       "    </tr>\n",
       "  </thead>\n",
       "  <tbody>\n",
       "    <tr>\n",
       "      <th>0</th>\n",
       "      <td>1985</td>\n",
       "      <td>136</td>\n",
       "      <td>1116</td>\n",
       "      <td>63</td>\n",
       "      <td>1234</td>\n",
       "      <td>54</td>\n",
       "      <td>N</td>\n",
       "      <td>0</td>\n",
       "    </tr>\n",
       "    <tr>\n",
       "      <th>1</th>\n",
       "      <td>1985</td>\n",
       "      <td>136</td>\n",
       "      <td>1120</td>\n",
       "      <td>59</td>\n",
       "      <td>1345</td>\n",
       "      <td>58</td>\n",
       "      <td>N</td>\n",
       "      <td>0</td>\n",
       "    </tr>\n",
       "    <tr>\n",
       "      <th>2</th>\n",
       "      <td>1985</td>\n",
       "      <td>136</td>\n",
       "      <td>1207</td>\n",
       "      <td>68</td>\n",
       "      <td>1250</td>\n",
       "      <td>43</td>\n",
       "      <td>N</td>\n",
       "      <td>0</td>\n",
       "    </tr>\n",
       "    <tr>\n",
       "      <th>3</th>\n",
       "      <td>1985</td>\n",
       "      <td>136</td>\n",
       "      <td>1229</td>\n",
       "      <td>58</td>\n",
       "      <td>1425</td>\n",
       "      <td>55</td>\n",
       "      <td>N</td>\n",
       "      <td>0</td>\n",
       "    </tr>\n",
       "    <tr>\n",
       "      <th>4</th>\n",
       "      <td>1985</td>\n",
       "      <td>136</td>\n",
       "      <td>1242</td>\n",
       "      <td>49</td>\n",
       "      <td>1325</td>\n",
       "      <td>38</td>\n",
       "      <td>N</td>\n",
       "      <td>0</td>\n",
       "    </tr>\n",
       "  </tbody>\n",
       "</table>\n",
       "</div>"
      ],
      "text/plain": [
       "   Season  DayNum  WTeamID  WScore  LTeamID  LScore WLoc  NumOT\n",
       "0    1985     136     1116      63     1234      54    N      0\n",
       "1    1985     136     1120      59     1345      58    N      0\n",
       "2    1985     136     1207      68     1250      43    N      0\n",
       "3    1985     136     1229      58     1425      55    N      0\n",
       "4    1985     136     1242      49     1325      38    N      0"
      ]
     },
     "execution_count": 10,
     "metadata": {},
     "output_type": "execute_result"
    }
   ],
   "source": [
    "m_results.head()"
   ]
  },
  {
   "cell_type": "code",
   "execution_count": 34,
   "id": "dc5aea65-2e35-4337-85b5-7dc0029b2956",
   "metadata": {},
   "outputs": [],
   "source": [
    "def process_results(results_df, seed_df):\n",
    "    \"\"\"Process results to generate SeedDiff and matchups from both perspectives.\"\"\"\n",
    "    results_df = results_df.merge(seed_df, left_on=['Season', 'WTeamID'], right_on=['Season', 'TeamID'], how='left')\n",
    "    results_df = results_df.rename(columns={'SeedValue': 'SeedA'}).drop(columns=['TeamID'])\n",
    "\n",
    "    results_df = results_df.merge(seed_df, left_on=['Season', 'LTeamID'], right_on=['Season', 'TeamID'], how='left')\n",
    "    results_df = results_df.rename(columns={'SeedValue': 'SeedB'}).drop(columns=['TeamID'])\n",
    "\n",
    "    # Ensure TeamA has the lower ID\n",
    "    results_df['TeamA'] = results_df[['WTeamID', 'LTeamID']].min(axis=1)\n",
    "    results_df['TeamB'] = results_df[['WTeamID', 'LTeamID']].max(axis=1)\n",
    "\n",
    "    # Generate Matchup ID\n",
    "    results_df['MatchupID'] = results_df.apply(lambda row: f\"{row['Season']}_{row['TeamA']}_{row['TeamB']}\", axis=1)\n",
    "\n",
    "    # Compute Seed Difference\n",
    "    results_df['SeedDiff'] = results_df['SeedA'] - results_df['SeedB']\n",
    "    results_df['SeedDiff_Squared'] = results_df['SeedDiff'] ** 2\n",
    "\n",
    "    # Define Outcome (1 if TeamA won, 0 otherwise)\n",
    "    results_df['Outcome'] = (results_df['TeamA'] == results_df['WTeamID']).astype(int)\n",
    "\n",
    "    # Create a flipped version from TeamB’s perspective\n",
    "    flipped_results = results_df.copy()\n",
    "    flipped_results['MatchupID'] = flipped_results.apply(lambda row: f\"{row['Season']}_{row['TeamB']}_{row['TeamA']}\", axis=1)\n",
    "    flipped_results['SeedDiff'] = -flipped_results['SeedDiff']\n",
    "    flipped_results['Outcome'] = 1 - flipped_results['Outcome']\n",
    "\n",
    "    # Combine original and flipped datasets\n",
    "    final_results = pd.concat([results_df, flipped_results], axis=0).reset_index(drop=True)\n",
    "\n",
    "    return final_results[['MatchupID', 'Season', 'SeedDiff', 'SeedDiff_Squared', 'Outcome']]\n",
    "\n",
    "# Process men's and women's tournament results separately\n",
    "m_model_data = process_results(m_results, m_seed)\n",
    "w_model_data = process_results(w_results, w_seed)"
   ]
  },
  {
   "cell_type": "code",
   "execution_count": 35,
   "id": "cf135312-c4ba-45c0-abc3-0d27e82a1d2f",
   "metadata": {},
   "outputs": [
    {
     "data": {
      "text/html": [
       "<div>\n",
       "<style scoped>\n",
       "    .dataframe tbody tr th:only-of-type {\n",
       "        vertical-align: middle;\n",
       "    }\n",
       "\n",
       "    .dataframe tbody tr th {\n",
       "        vertical-align: top;\n",
       "    }\n",
       "\n",
       "    .dataframe thead th {\n",
       "        text-align: right;\n",
       "    }\n",
       "</style>\n",
       "<table border=\"1\" class=\"dataframe\">\n",
       "  <thead>\n",
       "    <tr style=\"text-align: right;\">\n",
       "      <th></th>\n",
       "      <th>MatchupID</th>\n",
       "      <th>Season</th>\n",
       "      <th>SeedDiff</th>\n",
       "      <th>SeedDiff_Squared</th>\n",
       "      <th>Outcome</th>\n",
       "    </tr>\n",
       "  </thead>\n",
       "  <tbody>\n",
       "    <tr>\n",
       "      <th>0</th>\n",
       "      <td>1985_1116_1234</td>\n",
       "      <td>1985</td>\n",
       "      <td>1</td>\n",
       "      <td>1</td>\n",
       "      <td>1</td>\n",
       "    </tr>\n",
       "    <tr>\n",
       "      <th>1</th>\n",
       "      <td>1985_1120_1345</td>\n",
       "      <td>1985</td>\n",
       "      <td>5</td>\n",
       "      <td>25</td>\n",
       "      <td>1</td>\n",
       "    </tr>\n",
       "    <tr>\n",
       "      <th>2</th>\n",
       "      <td>1985_1207_1250</td>\n",
       "      <td>1985</td>\n",
       "      <td>-15</td>\n",
       "      <td>225</td>\n",
       "      <td>1</td>\n",
       "    </tr>\n",
       "    <tr>\n",
       "      <th>3</th>\n",
       "      <td>1985_1229_1425</td>\n",
       "      <td>1985</td>\n",
       "      <td>1</td>\n",
       "      <td>1</td>\n",
       "      <td>1</td>\n",
       "    </tr>\n",
       "    <tr>\n",
       "      <th>4</th>\n",
       "      <td>1985_1242_1325</td>\n",
       "      <td>1985</td>\n",
       "      <td>-11</td>\n",
       "      <td>121</td>\n",
       "      <td>1</td>\n",
       "    </tr>\n",
       "  </tbody>\n",
       "</table>\n",
       "</div>"
      ],
      "text/plain": [
       "        MatchupID  Season  SeedDiff  SeedDiff_Squared  Outcome\n",
       "0  1985_1116_1234    1985         1                 1        1\n",
       "1  1985_1120_1345    1985         5                25        1\n",
       "2  1985_1207_1250    1985       -15               225        1\n",
       "3  1985_1229_1425    1985         1                 1        1\n",
       "4  1985_1242_1325    1985       -11               121        1"
      ]
     },
     "execution_count": 35,
     "metadata": {},
     "output_type": "execute_result"
    }
   ],
   "source": [
    "m_model_data.head()"
   ]
  },
  {
   "cell_type": "code",
   "execution_count": null,
   "id": "91101104-215f-4d3b-a77b-1893332f5c09",
   "metadata": {},
   "outputs": [],
   "source": [
    "new_experiment_id = mlflow.create_experiment(\"SeedDiff_Model\")\n",
    "print(f\"New Experiment ID: {new_experiment_id}\")\n",
    "\n",
    "mlflow.set_experiment(\"SeedDiff_Model\")"
   ]
  },
  {
   "cell_type": "code",
   "execution_count": 22,
   "id": "94170db8-38a6-442a-bf84-9174049e023f",
   "metadata": {},
   "outputs": [
    {
     "data": {
      "application/vnd.jupyter.widget-view+json": {
       "model_id": "9575e0f833f14cf6b50075b11c08e30e",
       "version_major": 2,
       "version_minor": 0
      },
      "text/plain": [
       "Downloading artifacts:   0%|          | 0/7 [00:00<?, ?it/s]"
      ]
     },
     "metadata": {},
     "output_type": "display_data"
    },
    {
     "name": "stdout",
     "output_type": "stream",
     "text": [
      "Men model trained for season 2021\n"
     ]
    },
    {
     "data": {
      "application/vnd.jupyter.widget-view+json": {
       "model_id": "7eb259813c294b059893e45823b15a80",
       "version_major": 2,
       "version_minor": 0
      },
      "text/plain": [
       "Downloading artifacts:   0%|          | 0/7 [00:00<?, ?it/s]"
      ]
     },
     "metadata": {},
     "output_type": "display_data"
    },
    {
     "name": "stdout",
     "output_type": "stream",
     "text": [
      "Men model trained for season 2022\n"
     ]
    },
    {
     "data": {
      "application/vnd.jupyter.widget-view+json": {
       "model_id": "0dbca9b87dba4724b24e837db6d99e78",
       "version_major": 2,
       "version_minor": 0
      },
      "text/plain": [
       "Downloading artifacts:   0%|          | 0/7 [00:00<?, ?it/s]"
      ]
     },
     "metadata": {},
     "output_type": "display_data"
    },
    {
     "name": "stdout",
     "output_type": "stream",
     "text": [
      "Men model trained for season 2023\n"
     ]
    },
    {
     "data": {
      "application/vnd.jupyter.widget-view+json": {
       "model_id": "046cfac2ead9444c8e57e687f27c71ef",
       "version_major": 2,
       "version_minor": 0
      },
      "text/plain": [
       "Downloading artifacts:   0%|          | 0/7 [00:00<?, ?it/s]"
      ]
     },
     "metadata": {},
     "output_type": "display_data"
    },
    {
     "name": "stdout",
     "output_type": "stream",
     "text": [
      "Men model trained for season 2024\n"
     ]
    },
    {
     "data": {
      "application/vnd.jupyter.widget-view+json": {
       "model_id": "fd20b6a51c924f72bb983e78d69072ac",
       "version_major": 2,
       "version_minor": 0
      },
      "text/plain": [
       "Downloading artifacts:   0%|          | 0/7 [00:00<?, ?it/s]"
      ]
     },
     "metadata": {},
     "output_type": "display_data"
    },
    {
     "name": "stdout",
     "output_type": "stream",
     "text": [
      "Women model trained for season 2021\n"
     ]
    },
    {
     "data": {
      "application/vnd.jupyter.widget-view+json": {
       "model_id": "7f06417ba8d3469d89a2f7adb2ade253",
       "version_major": 2,
       "version_minor": 0
      },
      "text/plain": [
       "Downloading artifacts:   0%|          | 0/7 [00:00<?, ?it/s]"
      ]
     },
     "metadata": {},
     "output_type": "display_data"
    },
    {
     "name": "stdout",
     "output_type": "stream",
     "text": [
      "Women model trained for season 2022\n"
     ]
    },
    {
     "data": {
      "application/vnd.jupyter.widget-view+json": {
       "model_id": "3e0f420e4c3a4e4f926913de46f5041c",
       "version_major": 2,
       "version_minor": 0
      },
      "text/plain": [
       "Downloading artifacts:   0%|          | 0/7 [00:00<?, ?it/s]"
      ]
     },
     "metadata": {},
     "output_type": "display_data"
    },
    {
     "name": "stdout",
     "output_type": "stream",
     "text": [
      "Women model trained for season 2023\n"
     ]
    },
    {
     "data": {
      "application/vnd.jupyter.widget-view+json": {
       "model_id": "430fa4fb652a441b972e5ad95eef4f57",
       "version_major": 2,
       "version_minor": 0
      },
      "text/plain": [
       "Downloading artifacts:   0%|          | 0/7 [00:00<?, ?it/s]"
      ]
     },
     "metadata": {},
     "output_type": "display_data"
    },
    {
     "name": "stdout",
     "output_type": "stream",
     "text": [
      "Women model trained for season 2024\n"
     ]
    }
   ],
   "source": [
    "def train_seed_diff_model(model_data, gender):\n",
    "    \"\"\"Train a logistic regression model on SeedDiff for men's or women's tournament.\"\"\"\n",
    "    for season in range(2021, 2025):  # Predicting for 2021-2024\n",
    "        train_data = model_data[model_data['Season'] < season].copy()\n",
    "\n",
    "        # Ensure `SeedDiff` is float64\n",
    "        X_train = pd.DataFrame(train_data[['SeedDiff']], columns=['SeedDiff']).astype(\"float64\")\n",
    "\n",
    "        # Ensure `Outcome` is float64 (important for MLflow schema consistency)\n",
    "        y_train = train_data['Outcome'].astype(\"float64\")\n",
    "\n",
    "        with mlflow.start_run(run_name=f\"{gender}_SeedDiff_Season_{season}\"):\n",
    "            # Train Model\n",
    "            model = LogisticRegression()\n",
    "            model.fit(X_train, y_train)\n",
    "\n",
    "            # Log Metrics\n",
    "            mlflow.log_param(\"Season\", season)\n",
    "            mlflow.log_param(\"Gender\", gender)\n",
    "            mlflow.log_param(\"Train Size\", len(X_train))\n",
    "            mlflow.log_metric(\"SeedDiff_Mean\", X_train.mean().values[0])\n",
    "\n",
    "            # Log Model with correct input schema\n",
    "            input_example = pd.DataFrame([[0.0]], columns=[\"SeedDiff\"])  # Ensure it's float\n",
    "            mlflow.sklearn.log_model(model, f\"{gender}_SeedDiff_Model_{season}\", input_example=input_example)\n",
    "\n",
    "            print(f\"{gender} model trained for season {season}\")\n",
    "\n",
    "# Train men's and women's models separately\n",
    "train_seed_diff_model(m_model_data, \"Men\")\n",
    "train_seed_diff_model(w_model_data, \"Women\")\n"
   ]
  },
  {
   "cell_type": "code",
   "execution_count": 28,
   "id": "98c36633-b600-461c-98f1-638b7a0dfc88",
   "metadata": {},
   "outputs": [
    {
     "data": {
      "application/vnd.jupyter.widget-view+json": {
       "model_id": "219dad186b24439a814c28b15c3dbee9",
       "version_major": 2,
       "version_minor": 0
      },
      "text/plain": [
       "Downloading artifacts:   0%|          | 0/7 [00:00<?, ?it/s]"
      ]
     },
     "metadata": {},
     "output_type": "display_data"
    },
    {
     "name": "stdout",
     "output_type": "stream",
     "text": [
      "Men model trained for season 2021\n",
      "Log Loss: 0.6933, Accuracy: 0.3712, AUC: 0.3527, Brier Score: 0.250078938035328, Baseline Log Loss: 0.6931471805599454\n"
     ]
    },
    {
     "data": {
      "application/vnd.jupyter.widget-view+json": {
       "model_id": "31f500a1857a4f7a8f702c36fbf93459",
       "version_major": 2,
       "version_minor": 0
      },
      "text/plain": [
       "Downloading artifacts:   0%|          | 0/7 [00:00<?, ?it/s]"
      ]
     },
     "metadata": {},
     "output_type": "display_data"
    },
    {
     "name": "stdout",
     "output_type": "stream",
     "text": [
      "Men model trained for season 2022\n",
      "Log Loss: 0.6921, Accuracy: 0.5522, AUC: 0.5805, Brier Score: 0.24947010745831105, Baseline Log Loss: 0.6931471805599454\n"
     ]
    },
    {
     "data": {
      "application/vnd.jupyter.widget-view+json": {
       "model_id": "5a50aa75d31648fdb21e133d2d4a2891",
       "version_major": 2,
       "version_minor": 0
      },
      "text/plain": [
       "Downloading artifacts:   0%|          | 0/7 [00:00<?, ?it/s]"
      ]
     },
     "metadata": {},
     "output_type": "display_data"
    },
    {
     "name": "stdout",
     "output_type": "stream",
     "text": [
      "Men model trained for season 2023\n",
      "Log Loss: 0.6920, Accuracy: 0.5522, AUC: 0.5636, Brier Score: 0.2494324563335187, Baseline Log Loss: 0.6931471805599454\n"
     ]
    },
    {
     "data": {
      "application/vnd.jupyter.widget-view+json": {
       "model_id": "db992761dfbd4808aede27e985c5d6b2",
       "version_major": 2,
       "version_minor": 0
      },
      "text/plain": [
       "Downloading artifacts:   0%|          | 0/7 [00:00<?, ?it/s]"
      ]
     },
     "metadata": {},
     "output_type": "display_data"
    },
    {
     "name": "stdout",
     "output_type": "stream",
     "text": [
      "Men model trained for season 2024\n",
      "Log Loss: 0.6888, Accuracy: 0.6194, AUC: 0.6882, Brier Score: 0.24782111957101957, Baseline Log Loss: 0.6931471805599454\n"
     ]
    },
    {
     "data": {
      "application/vnd.jupyter.widget-view+json": {
       "model_id": "1e8f2230a3a44448a0f7279bf6dfea12",
       "version_major": 2,
       "version_minor": 0
      },
      "text/plain": [
       "Downloading artifacts:   0%|          | 0/7 [00:00<?, ?it/s]"
      ]
     },
     "metadata": {},
     "output_type": "display_data"
    },
    {
     "name": "stdout",
     "output_type": "stream",
     "text": [
      "Women model trained for season 2021\n",
      "Log Loss: 0.6935, Accuracy: 0.5000, AUC: 0.4390, Brier Score: 0.2501855339653524, Baseline Log Loss: 0.6931471805599454\n"
     ]
    },
    {
     "data": {
      "application/vnd.jupyter.widget-view+json": {
       "model_id": "786605198ec74a85b2a222476fe6705b",
       "version_major": 2,
       "version_minor": 0
      },
      "text/plain": [
       "Downloading artifacts:   0%|          | 0/7 [00:00<?, ?it/s]"
      ]
     },
     "metadata": {},
     "output_type": "display_data"
    },
    {
     "name": "stdout",
     "output_type": "stream",
     "text": [
      "Women model trained for season 2022\n",
      "Log Loss: 0.6938, Accuracy: 0.3806, AUC: 0.3318, Brier Score: 0.2503201237221862, Baseline Log Loss: 0.6931471805599454\n"
     ]
    },
    {
     "data": {
      "application/vnd.jupyter.widget-view+json": {
       "model_id": "1492753d66e84273885cbcf3590f17b3",
       "version_major": 2,
       "version_minor": 0
      },
      "text/plain": [
       "Downloading artifacts:   0%|          | 0/7 [00:00<?, ?it/s]"
      ]
     },
     "metadata": {},
     "output_type": "display_data"
    },
    {
     "name": "stdout",
     "output_type": "stream",
     "text": [
      "Women model trained for season 2023\n",
      "Log Loss: 0.6913, Accuracy: 0.5970, AUC: 0.6039, Brier Score: 0.24908826532990125, Baseline Log Loss: 0.6931471805599454\n"
     ]
    },
    {
     "data": {
      "application/vnd.jupyter.widget-view+json": {
       "model_id": "02e0698dad2d424d9230141eccae532a",
       "version_major": 2,
       "version_minor": 0
      },
      "text/plain": [
       "Downloading artifacts:   0%|          | 0/7 [00:00<?, ?it/s]"
      ]
     },
     "metadata": {},
     "output_type": "display_data"
    },
    {
     "name": "stdout",
     "output_type": "stream",
     "text": [
      "Women model trained for season 2024\n",
      "Log Loss: 0.6893, Accuracy: 0.6045, AUC: 0.6319, Brier Score: 0.24805537579184203, Baseline Log Loss: 0.6931471805599454\n"
     ]
    }
   ],
   "source": [
    "def train_seed_diff_model(model_data, gender):\n",
    "    \"\"\"Train a logistic regression model on SeedDiff for men's or women's tournament.\"\"\"\n",
    "    for season in range(2021, 2025):  # Predicting for 2021-2024\n",
    "        train_data = model_data[model_data['Season'] < season].copy()\n",
    "        test_data = model_data[model_data['Season'] == season].copy()\n",
    "\n",
    "        # Ensure SeedDiff is float64\n",
    "        X_train = pd.DataFrame(train_data[['SeedDiff']], columns=['SeedDiff']).astype(\"float64\")\n",
    "        y_train = train_data['Outcome'].astype(\"float64\")\n",
    "\n",
    "        X_test = pd.DataFrame(test_data[['SeedDiff']], columns=['SeedDiff']).astype(\"float64\")\n",
    "        y_test = test_data['Outcome'].astype(\"float64\")\n",
    "\n",
    "        with mlflow.start_run(run_name=f\"{gender}_SeedDiff_Season_{season}\"):\n",
    "            # Train Model\n",
    "            model = LogisticRegression()\n",
    "            model.fit(X_train, y_train)\n",
    "\n",
    "            # Make Predictions\n",
    "            y_pred_probs = model.predict_proba(X_test)[:, 1]  # Probability of TeamA winning\n",
    "            y_pred_labels = (y_pred_probs > 0.5).astype(int)  # Convert to binary (win/loss)\n",
    "\n",
    "            # Compute Metrics\n",
    "            log_loss_value = log_loss(y_test, y_pred_probs)  # Main Kaggle metric\n",
    "            accuracy_value = accuracy_score(y_test, y_pred_labels)  # General model accuracy\n",
    "            auc_value = roc_auc_score(y_test, y_pred_probs)  # AUC score\n",
    "            brier_value = brier_score_loss(y_test, y_pred_probs)  # Calibration metric\n",
    "            baseline_log_loss = log_loss(y_test, np.full_like(y_test, 0.5))  # Log Loss of a dummy 50/50 predictor\n",
    "\n",
    "            # Log Metrics\n",
    "            mlflow.log_param(\"Season\", season)\n",
    "            mlflow.log_param(\"Gender\", gender)\n",
    "            mlflow.log_param(\"Train Size\", len(X_train))\n",
    "            mlflow.log_metric(\"SeedDiff_Mean\", X_train.mean().values[0])\n",
    "            mlflow.log_metric(\"Log_Loss\", log_loss_value)\n",
    "            mlflow.log_metric(\"Accuracy\", accuracy_value)\n",
    "            mlflow.log_metric(\"AUC\", auc_value)\n",
    "            mlflow.log_metric(\"Brier_Score\", brier_value)\n",
    "            mlflow.log_metric(\"Baseline_Log_Loss\", baseline_log_loss)\n",
    "\n",
    "            # Log Model with correct input schema\n",
    "            input_example = pd.DataFrame([[0.0]], columns=[\"SeedDiff\"])  # Ensure it's float\n",
    "            mlflow.sklearn.log_model(model, f\"{gender}_SeedDiff_Model_{season}\", input_example=input_example)\n",
    "\n",
    "            print(f\"{gender} model trained for season {season}\")\n",
    "            print(f\"Log Loss: {log_loss_value:.4f}, Accuracy: {accuracy_value:.4f}, AUC: {auc_value:.4f}, Brier Score: {brier_value}, Baseline Log Loss: {baseline_log_loss}\")\n",
    "\n",
    "# Train men's and women's models separately\n",
    "train_seed_diff_model(m_model_data, \"Men\")\n",
    "train_seed_diff_model(w_model_data, \"Women\")\n"
   ]
  },
  {
   "cell_type": "code",
   "execution_count": 29,
   "id": "f6fbea14-c190-4446-897f-2401a4ac0b78",
   "metadata": {},
   "outputs": [
    {
     "name": "stdout",
     "output_type": "stream",
     "text": [
      "Predictions made for Men Season 2021 using model 5946e216373043d59c3e2b4ae020590d\n",
      "Predictions made for Women Season 2021 using model 231eb2e1ff2c43689b96e271779ef5e2\n",
      "Predictions made for Men Season 2022 using model 0b141e70c2f84119adc18de2ea46fca1\n",
      "Predictions made for Women Season 2022 using model 06b1f55d6def467286e8c4e9378b9541\n",
      "Predictions made for Men Season 2023 using model 461605b059f742ad8fd4a7338780c42b\n",
      "Predictions made for Women Season 2023 using model 208da4bf9029462f9f05dc779eca3ac0\n",
      "Predictions made for Men Season 2024 using model afa407d1fd7e4af59cbcff638ea617d2\n",
      "Predictions made for Women Season 2024 using model e0e569e7bf68412bae79bb927a939ef8\n"
     ]
    }
   ],
   "source": [
    "# Apply the trained model to predict probabilities\n",
    "\n",
    "# Get the correct experiment ID dynamically\n",
    "experiment = mlflow.get_experiment_by_name(\"SeedDiff_Model\")\n",
    "experiment_id = experiment.experiment_id  # Correct experiment folder (e.g., 835737634426971665)\n",
    "\n",
    "for season in range(2021, 2025):  # Predicting for 2021-2024\n",
    "    for gender, test_df in [('Men', m_submission), ('Women', w_submission)]:\n",
    "        # Ensure a deep copy to avoid SettingWithCopyWarning\n",
    "        season_test_df = test_df[test_df['Season'] == season].copy()\n",
    "        X_test = season_test_df[['SeedDiff']]\n",
    "\n",
    "        # Ensure X_test is a DataFrame with column names\n",
    "        X_test = pd.DataFrame(X_test, columns=['SeedDiff']).astype(\"float64\")\n",
    "\n",
    "        with mlflow.start_run(run_name=f\"{gender}_SeedDiff_Prediction_{season}\"):\n",
    "            try:\n",
    "                # Search for the latest run ID for this experiment\n",
    "                runs = mlflow.search_runs(experiment_ids=[experiment_id], order_by=[\"start_time DESC\"])\n",
    "\n",
    "                # Find the model corresponding to this season and gender\n",
    "                model_run = runs[runs['tags.mlflow.runName'] == f\"{gender}_SeedDiff_Season_{season}\"]\n",
    "                if model_run.empty:\n",
    "                    raise FileNotFoundError(f\"No trained model found for {gender} Season {season}\")\n",
    "\n",
    "                run_id = model_run.iloc[0]['run_id']\n",
    "                model_path = f\"mlruns/{experiment_id}/{run_id}/artifacts/{gender}_SeedDiff_Model_{season}\"\n",
    "\n",
    "                # Load model dynamically\n",
    "                model = mlflow.sklearn.load_model(model_path)\n",
    "\n",
    "                # Predict probabilities\n",
    "                season_test_df.loc[:, 'Pred'] = model.predict_proba(X_test)[:, 1]\n",
    "\n",
    "                # Update the submission dataframe\n",
    "                if gender == \"Men\":\n",
    "                    m_submission.loc[m_submission['Season'] == season, 'Pred'] = season_test_df['Pred']\n",
    "                else:\n",
    "                    w_submission.loc[w_submission['Season'] == season, 'Pred'] = season_test_df['Pred']\n",
    "\n",
    "                print(f\"Predictions made for {gender} Season {season} using model {run_id}\")\n",
    "\n",
    "            except Exception as e:\n",
    "                print(f\"Error loading model for {gender} Season {season}: {e}\")\n"
   ]
  },
  {
   "cell_type": "code",
   "execution_count": 30,
   "id": "4a6a27dd-7fd9-4859-af89-2243d8ecc17d",
   "metadata": {},
   "outputs": [
    {
     "data": {
      "image/png": "[encoded data removed]",
      "text/plain": [
       "<Figure size 1000x600 with 1 Axes>"
      ]
     },
     "metadata": {},
     "output_type": "display_data"
    }
   ],
   "source": [
    "import matplotlib.pyplot as plt\n",
    "import seaborn as sns\n",
    "\n",
    "# Combine men's and women's submission data for visualization\n",
    "submission_combined = pd.concat([m_submission, w_submission], ignore_index=True)\n",
    "\n",
    "# Create a scatterplot showing Pred vs. SeedDiff\n",
    "plt.figure(figsize=(10, 6))\n",
    "sns.scatterplot(data=submission_combined, x=\"SeedDiff\", y=\"Pred\", alpha=0.5)\n",
    "\n",
    "# Add titles and labels\n",
    "plt.title(\"Distribution of Predictions by Seed Difference\", fontsize=14)\n",
    "plt.xlabel(\"Seed Difference (SeedA - SeedB)\", fontsize=12)\n",
    "plt.ylabel(\"Predicted Win Probability (TeamA)\", fontsize=12)\n",
    "\n",
    "# Show the plot\n",
    "plt.grid(True)\n",
    "plt.show()\n"
   ]
  },
  {
   "cell_type": "code",
   "execution_count": 31,
   "id": "e4b82bf6-b120-4554-9739-a1ff3d966378",
   "metadata": {},
   "outputs": [
    {
     "data": {
      "text/html": [
       "<div>\n",
       "<style scoped>\n",
       "    .dataframe tbody tr th:only-of-type {\n",
       "        vertical-align: middle;\n",
       "    }\n",
       "\n",
       "    .dataframe tbody tr th {\n",
       "        vertical-align: top;\n",
       "    }\n",
       "\n",
       "    .dataframe thead th {\n",
       "        text-align: right;\n",
       "    }\n",
       "</style>\n",
       "<table border=\"1\" class=\"dataframe\">\n",
       "  <thead>\n",
       "    <tr style=\"text-align: right;\">\n",
       "      <th></th>\n",
       "      <th>Abs_SeedDiff</th>\n",
       "      <th>Min_Prob</th>\n",
       "      <th>Max_Prob</th>\n",
       "      <th>Avg_Prob</th>\n",
       "    </tr>\n",
       "  </thead>\n",
       "  <tbody>\n",
       "    <tr>\n",
       "      <th>0</th>\n",
       "      <td>0</td>\n",
       "      <td>0.500000</td>\n",
       "      <td>0.500000</td>\n",
       "      <td>0.500000</td>\n",
       "    </tr>\n",
       "    <tr>\n",
       "      <th>1</th>\n",
       "      <td>1</td>\n",
       "      <td>0.498795</td>\n",
       "      <td>0.501205</td>\n",
       "      <td>0.500017</td>\n",
       "    </tr>\n",
       "    <tr>\n",
       "      <th>2</th>\n",
       "      <td>2</td>\n",
       "      <td>0.497590</td>\n",
       "      <td>0.502410</td>\n",
       "      <td>0.500014</td>\n",
       "    </tr>\n",
       "    <tr>\n",
       "      <th>3</th>\n",
       "      <td>3</td>\n",
       "      <td>0.496384</td>\n",
       "      <td>0.503616</td>\n",
       "      <td>0.500004</td>\n",
       "    </tr>\n",
       "    <tr>\n",
       "      <th>4</th>\n",
       "      <td>4</td>\n",
       "      <td>0.495179</td>\n",
       "      <td>0.504821</td>\n",
       "      <td>0.500166</td>\n",
       "    </tr>\n",
       "    <tr>\n",
       "      <th>5</th>\n",
       "      <td>5</td>\n",
       "      <td>0.493974</td>\n",
       "      <td>0.506026</td>\n",
       "      <td>0.500245</td>\n",
       "    </tr>\n",
       "    <tr>\n",
       "      <th>6</th>\n",
       "      <td>6</td>\n",
       "      <td>0.492769</td>\n",
       "      <td>0.507231</td>\n",
       "      <td>0.500268</td>\n",
       "    </tr>\n",
       "    <tr>\n",
       "      <th>7</th>\n",
       "      <td>7</td>\n",
       "      <td>0.491564</td>\n",
       "      <td>0.508436</td>\n",
       "      <td>0.500080</td>\n",
       "    </tr>\n",
       "    <tr>\n",
       "      <th>8</th>\n",
       "      <td>8</td>\n",
       "      <td>0.490359</td>\n",
       "      <td>0.509641</td>\n",
       "      <td>0.500461</td>\n",
       "    </tr>\n",
       "    <tr>\n",
       "      <th>9</th>\n",
       "      <td>9</td>\n",
       "      <td>0.489155</td>\n",
       "      <td>0.510845</td>\n",
       "      <td>0.500137</td>\n",
       "    </tr>\n",
       "    <tr>\n",
       "      <th>10</th>\n",
       "      <td>10</td>\n",
       "      <td>0.487950</td>\n",
       "      <td>0.512050</td>\n",
       "      <td>0.500830</td>\n",
       "    </tr>\n",
       "    <tr>\n",
       "      <th>11</th>\n",
       "      <td>11</td>\n",
       "      <td>0.486746</td>\n",
       "      <td>0.513254</td>\n",
       "      <td>0.500752</td>\n",
       "    </tr>\n",
       "    <tr>\n",
       "      <th>12</th>\n",
       "      <td>12</td>\n",
       "      <td>0.485541</td>\n",
       "      <td>0.514459</td>\n",
       "      <td>0.501508</td>\n",
       "    </tr>\n",
       "    <tr>\n",
       "      <th>13</th>\n",
       "      <td>13</td>\n",
       "      <td>0.484337</td>\n",
       "      <td>0.515663</td>\n",
       "      <td>0.501042</td>\n",
       "    </tr>\n",
       "    <tr>\n",
       "      <th>14</th>\n",
       "      <td>14</td>\n",
       "      <td>0.483133</td>\n",
       "      <td>0.516867</td>\n",
       "      <td>0.501415</td>\n",
       "    </tr>\n",
       "    <tr>\n",
       "      <th>15</th>\n",
       "      <td>15</td>\n",
       "      <td>0.481930</td>\n",
       "      <td>0.518070</td>\n",
       "      <td>0.503030</td>\n",
       "    </tr>\n",
       "  </tbody>\n",
       "</table>\n",
       "</div>"
      ],
      "text/plain": [
       "    Abs_SeedDiff  Min_Prob  Max_Prob  Avg_Prob\n",
       "0              0  0.500000  0.500000  0.500000\n",
       "1              1  0.498795  0.501205  0.500017\n",
       "2              2  0.497590  0.502410  0.500014\n",
       "3              3  0.496384  0.503616  0.500004\n",
       "4              4  0.495179  0.504821  0.500166\n",
       "5              5  0.493974  0.506026  0.500245\n",
       "6              6  0.492769  0.507231  0.500268\n",
       "7              7  0.491564  0.508436  0.500080\n",
       "8              8  0.490359  0.509641  0.500461\n",
       "9              9  0.489155  0.510845  0.500137\n",
       "10            10  0.487950  0.512050  0.500830\n",
       "11            11  0.486746  0.513254  0.500752\n",
       "12            12  0.485541  0.514459  0.501508\n",
       "13            13  0.484337  0.515663  0.501042\n",
       "14            14  0.483133  0.516867  0.501415\n",
       "15            15  0.481930  0.518070  0.503030"
      ]
     },
     "metadata": {},
     "output_type": "display_data"
    }
   ],
   "source": [
    "import pandas as pd\n",
    "\n",
    "# Combine men's and women's submission data for analysis\n",
    "submission_combined = pd.concat([m_submission, w_submission], ignore_index=True)\n",
    "\n",
    "# Compute absolute value of SeedDiff\n",
    "submission_combined[\"Abs_SeedDiff\"] = submission_combined[\"SeedDiff\"].abs()\n",
    "\n",
    "# Group by absolute seed difference and calculate min, max, and average probability\n",
    "seed_diff_stats = (\n",
    "    submission_combined.groupby(\"Abs_SeedDiff\")[\"Pred\"]\n",
    "    .agg([\"min\", \"max\", \"mean\"])\n",
    "    .reset_index()\n",
    ")\n",
    "\n",
    "# Rename columns for clarity\n",
    "seed_diff_stats.columns = [\"Abs_SeedDiff\", \"Min_Prob\", \"Max_Prob\", \"Avg_Prob\"]\n",
    "\n",
    "# Display the DataFrame\n",
    "display(seed_diff_stats)\n",
    "\n",
    "# Optionally, save to CSV for further analysis\n",
    "# seed_diff_stats.to_csv(\"seed_diff_probability_stats.csv\", index=False)\n"
   ]
  },
  {
   "cell_type": "code",
   "execution_count": null,
   "id": "a4528137-06b9-497b-85cb-74d3b1a8f94c",
   "metadata": {},
   "outputs": [],
   "source": [
    "# Keep only required columns for Kaggle submission\n",
    "submission_df[['ID', 'Pred']].to_csv(\"SeedDiff_Model_Submission.csv\", index=False)\n"
   ]
  },
  {
   "cell_type": "code",
   "execution_count": null,
   "id": "0965c8b0-65c6-4866-91a0-d29e50566465",
   "metadata": {},
   "outputs": [],
   "source": []
  },
  {
   "cell_type": "code",
   "execution_count": null,
   "id": "c5ea7722-4271-41dd-8d6a-c7cb4670160c",
   "metadata": {},
   "outputs": [],
   "source": [
    "new_experiment_id = mlflow.create_experiment(\"SeedDiff_Squared_Model\")\n",
    "print(f\"New Experiment ID: {new_experiment_id}\")\n",
    "\n",
    "mlflow.set_experiment(\"SeedDiff_Squared_Model\")"
   ]
  },
  {
   "cell_type": "code",
   "execution_count": 39,
   "id": "aaee0013-8cc0-4f81-bfdb-9f786d9f0d04",
   "metadata": {},
   "outputs": [
    {
     "data": {
      "application/vnd.jupyter.widget-view+json": {
       "model_id": "1c616847c9f04b41816f41bf25356889",
       "version_major": 2,
       "version_minor": 0
      },
      "text/plain": [
       "Downloading artifacts:   0%|          | 0/7 [00:00<?, ?it/s]"
      ]
     },
     "metadata": {},
     "output_type": "display_data"
    },
    {
     "name": "stdout",
     "output_type": "stream",
     "text": [
      "Men model trained for season 2021\n",
      "Log Loss: 0.6931, Accuracy: 0.5000, AUC: 0.5000, Brier Score: 0.25, Baseline Log Loss: 0.6931471805599454\n"
     ]
    },
    {
     "data": {
      "application/vnd.jupyter.widget-view+json": {
       "model_id": "bf1a1ab5de98412b83a8676fcd778788",
       "version_major": 2,
       "version_minor": 0
      },
      "text/plain": [
       "Downloading artifacts:   0%|          | 0/7 [00:00<?, ?it/s]"
      ]
     },
     "metadata": {},
     "output_type": "display_data"
    },
    {
     "name": "stdout",
     "output_type": "stream",
     "text": [
      "Men model trained for season 2022\n",
      "Log Loss: 0.6931, Accuracy: 0.5000, AUC: 0.5000, Brier Score: 0.25, Baseline Log Loss: 0.6931471805599454\n"
     ]
    },
    {
     "data": {
      "application/vnd.jupyter.widget-view+json": {
       "model_id": "842c3858c89248018dae6be415100b01",
       "version_major": 2,
       "version_minor": 0
      },
      "text/plain": [
       "Downloading artifacts:   0%|          | 0/7 [00:00<?, ?it/s]"
      ]
     },
     "metadata": {},
     "output_type": "display_data"
    },
    {
     "name": "stdout",
     "output_type": "stream",
     "text": [
      "Men model trained for season 2023\n",
      "Log Loss: 0.6931, Accuracy: 0.5000, AUC: 0.5000, Brier Score: 0.25, Baseline Log Loss: 0.6931471805599454\n"
     ]
    },
    {
     "data": {
      "application/vnd.jupyter.widget-view+json": {
       "model_id": "60abb9d3f1f94d5790ff0c5ae4b5e567",
       "version_major": 2,
       "version_minor": 0
      },
      "text/plain": [
       "Downloading artifacts:   0%|          | 0/7 [00:00<?, ?it/s]"
      ]
     },
     "metadata": {},
     "output_type": "display_data"
    },
    {
     "name": "stdout",
     "output_type": "stream",
     "text": [
      "Men model trained for season 2024\n",
      "Log Loss: 0.6931, Accuracy: 0.5000, AUC: 0.5000, Brier Score: 0.25, Baseline Log Loss: 0.6931471805599454\n"
     ]
    },
    {
     "data": {
      "application/vnd.jupyter.widget-view+json": {
       "model_id": "65350262a7d54055ac2bf5baf7005433",
       "version_major": 2,
       "version_minor": 0
      },
      "text/plain": [
       "Downloading artifacts:   0%|          | 0/7 [00:00<?, ?it/s]"
      ]
     },
     "metadata": {},
     "output_type": "display_data"
    },
    {
     "name": "stdout",
     "output_type": "stream",
     "text": [
      "Women model trained for season 2021\n",
      "Log Loss: 0.6931, Accuracy: 0.5000, AUC: 0.5000, Brier Score: 0.25, Baseline Log Loss: 0.6931471805599454\n"
     ]
    },
    {
     "data": {
      "application/vnd.jupyter.widget-view+json": {
       "model_id": "b1e039d9b3b24f9b9e7a67152c48f33b",
       "version_major": 2,
       "version_minor": 0
      },
      "text/plain": [
       "Downloading artifacts:   0%|          | 0/7 [00:00<?, ?it/s]"
      ]
     },
     "metadata": {},
     "output_type": "display_data"
    },
    {
     "name": "stdout",
     "output_type": "stream",
     "text": [
      "Women model trained for season 2022\n",
      "Log Loss: 0.6931, Accuracy: 0.5000, AUC: 0.5000, Brier Score: 0.25, Baseline Log Loss: 0.6931471805599454\n"
     ]
    },
    {
     "data": {
      "application/vnd.jupyter.widget-view+json": {
       "model_id": "14be5a692eb8421ebedc826f4347a661",
       "version_major": 2,
       "version_minor": 0
      },
      "text/plain": [
       "Downloading artifacts:   0%|          | 0/7 [00:00<?, ?it/s]"
      ]
     },
     "metadata": {},
     "output_type": "display_data"
    },
    {
     "name": "stdout",
     "output_type": "stream",
     "text": [
      "Women model trained for season 2023\n",
      "Log Loss: 0.6931, Accuracy: 0.5000, AUC: 0.5000, Brier Score: 0.25, Baseline Log Loss: 0.6931471805599454\n"
     ]
    },
    {
     "data": {
      "application/vnd.jupyter.widget-view+json": {
       "model_id": "64fb98a634594b208a223ca736122133",
       "version_major": 2,
       "version_minor": 0
      },
      "text/plain": [
       "Downloading artifacts:   0%|          | 0/7 [00:00<?, ?it/s]"
      ]
     },
     "metadata": {},
     "output_type": "display_data"
    },
    {
     "name": "stdout",
     "output_type": "stream",
     "text": [
      "Women model trained for season 2024\n",
      "Log Loss: 0.6931, Accuracy: 0.5000, AUC: 0.5000, Brier Score: 0.25, Baseline Log Loss: 0.6931471805599454\n"
     ]
    }
   ],
   "source": [
    "def train_seed_diff_squared_model(model_data, gender):\n",
    "    \"\"\"Train a logistic regression model on SeedDiff_Squared for men's or women's tournament.\"\"\"\n",
    "    for season in range(2021, 2025):  # Predicting for 2021-2024\n",
    "        train_data = model_data[model_data['Season'] < season].copy()\n",
    "        test_data = model_data[model_data['Season'] == season].copy()\n",
    "\n",
    "        # Ensure SeedDiff is float64\n",
    "        X_train = pd.DataFrame(train_data[['SeedDiff_Squared']], columns=['SeedDiff_Squared']).astype(\"float64\")\n",
    "        y_train = train_data['Outcome'].astype(\"float64\")\n",
    "\n",
    "        X_test = pd.DataFrame(test_data[['SeedDiff_Squared']], columns=['SeedDiff_Squared']).astype(\"float64\")\n",
    "        y_test = test_data['Outcome'].astype(\"float64\")\n",
    "\n",
    "        with mlflow.start_run(run_name=f\"{gender}_SeedDiff_Squared_Season_{season}\"):\n",
    "            # Train Model\n",
    "            model = LogisticRegression()\n",
    "            model.fit(X_train, y_train)\n",
    "\n",
    "            # Make Predictions\n",
    "            y_pred_probs = model.predict_proba(X_test)[:, 1]  # Probability of TeamA winning\n",
    "            y_pred_labels = (y_pred_probs > 0.5).astype(int)  # Convert to binary (win/loss)\n",
    "\n",
    "            # Compute Metrics\n",
    "            log_loss_value = log_loss(y_test, y_pred_probs)  # Main Kaggle metric\n",
    "            accuracy_value = accuracy_score(y_test, y_pred_labels)  # General model accuracy\n",
    "            auc_value = roc_auc_score(y_test, y_pred_probs)  # AUC score\n",
    "            brier_value = brier_score_loss(y_test, y_pred_probs)  # Calibration metric\n",
    "            baseline_log_loss = log_loss(y_test, np.full_like(y_test, 0.5))  # Log Loss of a dummy 50/50 predictor\n",
    "\n",
    "            # Log Metrics\n",
    "            mlflow.log_param(\"Season\", season)\n",
    "            mlflow.log_param(\"Gender\", gender)\n",
    "            mlflow.log_param(\"Train Size\", len(X_train))\n",
    "            mlflow.log_metric(\"SeedDiff_Squared_Mean\", X_train.mean().values[0])\n",
    "            mlflow.log_metric(\"Log_Loss\", log_loss_value)\n",
    "            mlflow.log_metric(\"Accuracy\", accuracy_value)\n",
    "            mlflow.log_metric(\"AUC\", auc_value)\n",
    "            mlflow.log_metric(\"Brier_Score\", brier_value)\n",
    "            mlflow.log_metric(\"Baseline_Log_Loss\", baseline_log_loss)\n",
    "\n",
    "            # Log Model with correct input schema\n",
    "            input_example = pd.DataFrame([[0.0]], columns=[\"SeedDiff_Squared\"])  # Ensure it's float\n",
    "            mlflow.sklearn.log_model(model, f\"{gender}_SeedDiff_Squared_Model_{season}\", input_example=input_example)\n",
    "\n",
    "            print(f\"{gender} model trained for season {season}\")\n",
    "            print(f\"Log Loss: {log_loss_value:.4f}, Accuracy: {accuracy_value:.4f}, AUC: {auc_value:.4f}, Brier Score: {brier_value}, Baseline Log Loss: {baseline_log_loss}\")\n",
    "\n",
    "# Train men's and women's models separately\n",
    "train_seed_diff_squared_model(m_model_data, \"Men\")\n",
    "train_seed_diff_squared_model(w_model_data, \"Women\")"
   ]
  },
  {
   "cell_type": "code",
   "execution_count": 40,
   "id": "6f0dc129-a76a-41be-a675-7d592fb36ec4",
   "metadata": {},
   "outputs": [
    {
     "name": "stdout",
     "output_type": "stream",
     "text": [
      "Predictions made for Men Season 2021 using model 9347db146ee746aead001c514ca9ca8b\n",
      "Predictions made for Women Season 2021 using model 3a545e94142f4b2abd55fbb141a5500d\n",
      "Predictions made for Men Season 2022 using model 32a6d6510c0e47ce963e62e2591cf0fa\n",
      "Predictions made for Women Season 2022 using model 4cff67cb71814d17902810fc7091e788\n",
      "Predictions made for Men Season 2023 using model 2916aaeff3154166a35148aed411de51\n",
      "Predictions made for Women Season 2023 using model 81fd4455e0a84e7dbce004d0ad9f0da1\n",
      "Predictions made for Men Season 2024 using model efa8bffd6f0b4870ad35db54e64c8385\n",
      "Predictions made for Women Season 2024 using model c750593361ea4c45957c3dff69a2ab67\n"
     ]
    }
   ],
   "source": [
    "# Apply the trained model to predict probabilities\n",
    "\n",
    "# Get the correct experiment ID dynamically\n",
    "experiment = mlflow.get_experiment_by_name(\"SeedDiff_Squared_Model\")\n",
    "experiment_id = experiment.experiment_id  # Correct experiment folder (e.g., 835737634426971665)\n",
    "\n",
    "for season in range(2021, 2025):  # Predicting for 2021-2024\n",
    "    for gender, test_df in [('Men', m_submission), ('Women', w_submission)]:\n",
    "        # Ensure a deep copy to avoid SettingWithCopyWarning\n",
    "        season_test_df = test_df[test_df['Season'] == season].copy()\n",
    "        X_test = season_test_df[['SeedDiff_Squared']]\n",
    "\n",
    "        # Ensure X_test is a DataFrame with column names\n",
    "        X_test = pd.DataFrame(X_test, columns=['SeedDiff_Squared']).astype(\"float64\")\n",
    "\n",
    "        with mlflow.start_run(run_name=f\"{gender}_SeedDiff_Squared_Prediction_{season}\"):\n",
    "            try:\n",
    "                # Search for the latest run ID for this experiment\n",
    "                runs = mlflow.search_runs(experiment_ids=[experiment_id], order_by=[\"start_time DESC\"])\n",
    "\n",
    "                # Find the model corresponding to this season and gender\n",
    "                model_run = runs[runs['tags.mlflow.runName'] == f\"{gender}_SeedDiff_Squared_Season_{season}\"]\n",
    "                if model_run.empty:\n",
    "                    raise FileNotFoundError(f\"No trained model found for {gender} Season {season}\")\n",
    "\n",
    "                run_id = model_run.iloc[0]['run_id']\n",
    "                model_path = f\"mlruns/{experiment_id}/{run_id}/artifacts/{gender}_SeedDiff_Squared_Model_{season}\"\n",
    "\n",
    "                # Load model dynamically\n",
    "                model = mlflow.sklearn.load_model(model_path)\n",
    "\n",
    "                # Predict probabilities\n",
    "                season_test_df.loc[:, 'Pred'] = model.predict_proba(X_test)[:, 1]\n",
    "\n",
    "                # Update the submission dataframe\n",
    "                if gender == \"Men\":\n",
    "                    m_submission.loc[m_submission['Season'] == season, 'Pred'] = season_test_df['Pred']\n",
    "                else:\n",
    "                    w_submission.loc[w_submission['Season'] == season, 'Pred'] = season_test_df['Pred']\n",
    "\n",
    "                print(f\"Predictions made for {gender} Season {season} using model {run_id}\")\n",
    "\n",
    "            except Exception as e:\n",
    "                print(f\"Error loading model for {gender} Season {season}: {e}\")\n"
   ]
  },
  {
   "cell_type": "code",
   "execution_count": 41,
   "id": "e0060e55-89aa-4702-8589-e526c9292b92",
   "metadata": {},
   "outputs": [
    {
     "data": {
      "image/png": "[encoded data removed]",
      "text/plain": [
       "<Figure size 1000x600 with 1 Axes>"
      ]
     },
     "metadata": {},
     "output_type": "display_data"
    }
   ],
   "source": [
    "import matplotlib.pyplot as plt\n",
    "import seaborn as sns\n",
    "\n",
    "# Combine men's and women's submission data for visualization\n",
    "submission_combined = pd.concat([m_submission, w_submission], ignore_index=True)\n",
    "\n",
    "# Create a scatterplot showing Pred vs. SeedDiff\n",
    "plt.figure(figsize=(10, 6))\n",
    "sns.scatterplot(data=submission_combined, x=\"SeedDiff\", y=\"Pred\", alpha=0.5)\n",
    "\n",
    "# Add titles and labels\n",
    "plt.title(\"Distribution of Predictions by Seed Difference\", fontsize=14)\n",
    "plt.xlabel(\"Seed Difference (SeedA - SeedB)\", fontsize=12)\n",
    "plt.ylabel(\"Predicted Win Probability (TeamA)\", fontsize=12)\n",
    "\n",
    "# Show the plot\n",
    "plt.grid(True)\n",
    "plt.show()\n"
   ]
  },
  {
   "cell_type": "code",
   "execution_count": 42,
   "id": "31f069f5-8621-4063-9a36-9535fbf4c566",
   "metadata": {},
   "outputs": [
    {
     "data": {
      "text/html": [
       "<div>\n",
       "<style scoped>\n",
       "    .dataframe tbody tr th:only-of-type {\n",
       "        vertical-align: middle;\n",
       "    }\n",
       "\n",
       "    .dataframe tbody tr th {\n",
       "        vertical-align: top;\n",
       "    }\n",
       "\n",
       "    .dataframe thead th {\n",
       "        text-align: right;\n",
       "    }\n",
       "</style>\n",
       "<table border=\"1\" class=\"dataframe\">\n",
       "  <thead>\n",
       "    <tr style=\"text-align: right;\">\n",
       "      <th></th>\n",
       "      <th>Abs_SeedDiff</th>\n",
       "      <th>Min_Prob</th>\n",
       "      <th>Max_Prob</th>\n",
       "      <th>Avg_Prob</th>\n",
       "    </tr>\n",
       "  </thead>\n",
       "  <tbody>\n",
       "    <tr>\n",
       "      <th>0</th>\n",
       "      <td>0</td>\n",
       "      <td>0.5</td>\n",
       "      <td>0.5</td>\n",
       "      <td>0.5</td>\n",
       "    </tr>\n",
       "    <tr>\n",
       "      <th>1</th>\n",
       "      <td>1</td>\n",
       "      <td>0.5</td>\n",
       "      <td>0.5</td>\n",
       "      <td>0.5</td>\n",
       "    </tr>\n",
       "    <tr>\n",
       "      <th>2</th>\n",
       "      <td>2</td>\n",
       "      <td>0.5</td>\n",
       "      <td>0.5</td>\n",
       "      <td>0.5</td>\n",
       "    </tr>\n",
       "    <tr>\n",
       "      <th>3</th>\n",
       "      <td>3</td>\n",
       "      <td>0.5</td>\n",
       "      <td>0.5</td>\n",
       "      <td>0.5</td>\n",
       "    </tr>\n",
       "    <tr>\n",
       "      <th>4</th>\n",
       "      <td>4</td>\n",
       "      <td>0.5</td>\n",
       "      <td>0.5</td>\n",
       "      <td>0.5</td>\n",
       "    </tr>\n",
       "    <tr>\n",
       "      <th>5</th>\n",
       "      <td>5</td>\n",
       "      <td>0.5</td>\n",
       "      <td>0.5</td>\n",
       "      <td>0.5</td>\n",
       "    </tr>\n",
       "    <tr>\n",
       "      <th>6</th>\n",
       "      <td>6</td>\n",
       "      <td>0.5</td>\n",
       "      <td>0.5</td>\n",
       "      <td>0.5</td>\n",
       "    </tr>\n",
       "    <tr>\n",
       "      <th>7</th>\n",
       "      <td>7</td>\n",
       "      <td>0.5</td>\n",
       "      <td>0.5</td>\n",
       "      <td>0.5</td>\n",
       "    </tr>\n",
       "    <tr>\n",
       "      <th>8</th>\n",
       "      <td>8</td>\n",
       "      <td>0.5</td>\n",
       "      <td>0.5</td>\n",
       "      <td>0.5</td>\n",
       "    </tr>\n",
       "    <tr>\n",
       "      <th>9</th>\n",
       "      <td>9</td>\n",
       "      <td>0.5</td>\n",
       "      <td>0.5</td>\n",
       "      <td>0.5</td>\n",
       "    </tr>\n",
       "    <tr>\n",
       "      <th>10</th>\n",
       "      <td>10</td>\n",
       "      <td>0.5</td>\n",
       "      <td>0.5</td>\n",
       "      <td>0.5</td>\n",
       "    </tr>\n",
       "    <tr>\n",
       "      <th>11</th>\n",
       "      <td>11</td>\n",
       "      <td>0.5</td>\n",
       "      <td>0.5</td>\n",
       "      <td>0.5</td>\n",
       "    </tr>\n",
       "    <tr>\n",
       "      <th>12</th>\n",
       "      <td>12</td>\n",
       "      <td>0.5</td>\n",
       "      <td>0.5</td>\n",
       "      <td>0.5</td>\n",
       "    </tr>\n",
       "    <tr>\n",
       "      <th>13</th>\n",
       "      <td>13</td>\n",
       "      <td>0.5</td>\n",
       "      <td>0.5</td>\n",
       "      <td>0.5</td>\n",
       "    </tr>\n",
       "    <tr>\n",
       "      <th>14</th>\n",
       "      <td>14</td>\n",
       "      <td>0.5</td>\n",
       "      <td>0.5</td>\n",
       "      <td>0.5</td>\n",
       "    </tr>\n",
       "    <tr>\n",
       "      <th>15</th>\n",
       "      <td>15</td>\n",
       "      <td>0.5</td>\n",
       "      <td>0.5</td>\n",
       "      <td>0.5</td>\n",
       "    </tr>\n",
       "  </tbody>\n",
       "</table>\n",
       "</div>"
      ],
      "text/plain": [
       "    Abs_SeedDiff  Min_Prob  Max_Prob  Avg_Prob\n",
       "0              0       0.5       0.5       0.5\n",
       "1              1       0.5       0.5       0.5\n",
       "2              2       0.5       0.5       0.5\n",
       "3              3       0.5       0.5       0.5\n",
       "4              4       0.5       0.5       0.5\n",
       "5              5       0.5       0.5       0.5\n",
       "6              6       0.5       0.5       0.5\n",
       "7              7       0.5       0.5       0.5\n",
       "8              8       0.5       0.5       0.5\n",
       "9              9       0.5       0.5       0.5\n",
       "10            10       0.5       0.5       0.5\n",
       "11            11       0.5       0.5       0.5\n",
       "12            12       0.5       0.5       0.5\n",
       "13            13       0.5       0.5       0.5\n",
       "14            14       0.5       0.5       0.5\n",
       "15            15       0.5       0.5       0.5"
      ]
     },
     "metadata": {},
     "output_type": "display_data"
    }
   ],
   "source": [
    "import pandas as pd\n",
    "\n",
    "# Combine men's and women's submission data for analysis\n",
    "submission_combined = pd.concat([m_submission, w_submission], ignore_index=True)\n",
    "\n",
    "# Compute absolute value of SeedDiff\n",
    "submission_combined[\"Abs_SeedDiff\"] = submission_combined[\"SeedDiff\"].abs()\n",
    "\n",
    "# Group by absolute seed difference and calculate min, max, and average probability\n",
    "seed_diff_stats = (\n",
    "    submission_combined.groupby(\"Abs_SeedDiff\")[\"Pred\"]\n",
    "    .agg([\"min\", \"max\", \"mean\"])\n",
    "    .reset_index()\n",
    ")\n",
    "\n",
    "# Rename columns for clarity\n",
    "seed_diff_stats.columns = [\"Abs_SeedDiff\", \"Min_Prob\", \"Max_Prob\", \"Avg_Prob\"]\n",
    "\n",
    "# Display the DataFrame\n",
    "display(seed_diff_stats)\n",
    "\n",
    "# Optionally, save to CSV for further analysis\n",
    "# seed_diff_stats.to_csv(\"seed_diff_probability_stats.csv\", index=False)\n"
   ]
  },
  {
   "cell_type": "code",
   "execution_count": null,
   "id": "ae359169-ffa6-4a2f-a609-3a6552157868",
   "metadata": {},
   "outputs": [],
   "source": []
  }
 ],
 "metadata": {
  "kernelspec": {
   "display_name": "Python 3 (ipykernel)",
   "language": "python",
   "name": "python3"
  },
  "language_info": {
   "codemirror_mode": {
    "name": "ipython",
    "version": 3
   },
   "file_extension": ".py",
   "mimetype": "text/x-python",
   "name": "python",
   "nbconvert_exporter": "python",
   "pygments_lexer": "ipython3",
   "version": "3.12.0"
  }
 },
 "nbformat": 4,
 "nbformat_minor": 5
}
